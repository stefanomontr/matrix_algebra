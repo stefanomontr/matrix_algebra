{
 "cells": [
  {
   "cell_type": "code",
   "execution_count": 1,
   "id": "b8bf1c60-dddb-4532-ad02-a90a7c95a020",
   "metadata": {},
   "outputs": [],
   "source": [
    "import numpy as np\n",
    "from collections import namedtuple"
   ]
  },
  {
   "cell_type": "code",
   "execution_count": 2,
   "id": "ec0736e1-3222-40f9-8cfa-f73e06a93b0b",
   "metadata": {},
   "outputs": [],
   "source": [
    "def areConformable(mat1, mat2):\n",
    "    '''\n",
    "    evaluate conformability of mat1 and mat2\n",
    "    (i.e. possibility of multiplying mat1 for mat2)\n",
    "    '''\n",
    "    if mat1.shape[1] == mat2.shape[0]: return True\n",
    "    return False"
   ]
  },
  {
   "cell_type": "code",
   "execution_count": 2,
   "id": "a52a6616-2809-4d0a-b1e9-b52f6683d17f",
   "metadata": {},
   "outputs": [],
   "source": [
    "def matrixMultiply(mat1: np.ndarray, mat2: np.ndarray) -> np.ndarray:\n",
    "    '''\n",
    "    Perform matrix multiplication:\n",
    "    1st row of arr1 is multiplied by broadcasting for each col of arr2; \n",
    "    broadcasted product columns sums form 1st row of returned matrix and so on\n",
    "    '''\n",
    "    if not areConformable(mat1, mat2): raise TypeError('Matrices not conformable')\n",
    "    \n",
    "    return np.apply_along_axis( lambda x: np.multiply(x[:, np.newaxis], mat2).sum(axis=0), \n",
    "                                axis=1, arr=mat1 )"
   ]
  },
  {
   "cell_type": "code",
   "execution_count": 4,
   "id": "b4685cb0-0c3c-40d0-b1aa-f22e96da0c4e",
   "metadata": {
    "tags": []
   },
   "outputs": [],
   "source": [
    "def matrixProduct(A: np.ndarray, B: np.ndarray):\n",
    "    '''\n",
    "    Perform matrix multiplication using for loop\n",
    "    alternative to matrixMultiply\n",
    "    '''\n",
    "    if not areConformable(A, B): raise TypeError('Matrices not conformable')\n",
    "    \n",
    "    result = np.zeros((A.shape[0], B.shape[1]))\n",
    "    \n",
    "    for i in [*zip(*np.ndenumerate(result))][0]: # i.e. for every tupled index of result:\n",
    "        result[i[0], i[1]] = (A[i[0], :] * B[:, i[1]]).sum()\n",
    "\n",
    "    return result"
   ]
  },
  {
   "cell_type": "code",
   "execution_count": 5,
   "id": "81f7ddc7-e9df-4a0e-af57-fec0db5712b0",
   "metadata": {},
   "outputs": [],
   "source": [
    "def dotProduct(arr: np.ndarray):\n",
    "    '''\n",
    "    Return dot product of an array\n",
    "    '''\n",
    "    if arr.ndim > 1: raise TypeError('Array must have 1dim')\n",
    "    return matMultiply(arr.T, arr)"
   ]
  },
  {
   "cell_type": "code",
   "execution_count": 2,
   "id": "2da21499-9e2a-4744-9981-7e44baf610e6",
   "metadata": {},
   "outputs": [],
   "source": [
    "def couple(x, y): \n",
    "    '''\n",
    "    ufunc that returns tuple of broadcasted values for 2 arrays\n",
    "    '''\n",
    "    return x, y\n",
    "couple = np.frompyfunc(couple, 2, 1)\n",
    "\n",
    "def bi_index(x):\n",
    "    '''\n",
    "    Return an arr equal to index of 2dim passed array\n",
    "    '''\n",
    "    row = np.arange(x.shape[0]).reshape((x.shape[0], 1))\n",
    "    col = np.arange(x.shape[1])\n",
    "    return np.array(couple(row, col))\n",
    "\n",
    "def matprod_index(A, B):\n",
    "    '''\n",
    "    Return index of matrix product of A and B\n",
    "    '''\n",
    "    return couple(\n",
    "                np.arange(A.shape[0]).reshape(A.shape[0], 1),\n",
    "                np.arange(B.shape[1])\n",
    "                )"
   ]
  },
  {
   "cell_type": "code",
   "execution_count": 70,
   "id": "a5c8c5f4-7d7f-46f5-836b-c930427e47fc",
   "metadata": {},
   "outputs": [],
   "source": [
    "def as_ufunc(y, x): \n",
    "    '''\n",
    "    ufunc that broadcasts function call to array x\n",
    "    '''\n",
    "    return y(x)\n",
    "as_ufunc = np.frompyfunc(as_ufunc, 2, 1)"
   ]
  },
  {
   "cell_type": "code",
   "execution_count": 115,
   "id": "46d46ffb-1e90-41ec-9437-474376a57ef3",
   "metadata": {},
   "outputs": [],
   "source": [
    "def mat_mul(A, B):\n",
    "    '''\n",
    "    Equivalent to matrixMultiply(), but uses instantiated ufunc\n",
    "    '''\n",
    "    func=lambda x: np.sum(A[x[0], :] * B.T[x[1], :])\n",
    "    return as_ufunc(func, matprod_index(A, B))"
   ]
  },
  {
   "cell_type": "code",
   "execution_count": 6,
   "id": "4966c867-05f0-44a1-bfc3-3068ad128481",
   "metadata": {},
   "outputs": [],
   "source": [
    "def determinant(mat: np.ndarray):\n",
    "    '''\n",
    "    Compute recursively square matrix determinant by Laplace expansion method\n",
    "    '''\n",
    "    \n",
    "    if mat.shape[0] != mat.shape[1]:\n",
    "        raise TypeError('Matrix must be square')\n",
    "    \n",
    "    def helper(x):\n",
    "        if x.shape[0] <= 2:\n",
    "            return x[0,0]*x[1,1] - x[0,1]*x[1,0]\n",
    "        \n",
    "        cut = np.array( [np.insert(np.delete(x, i, axis=1), 0, x[:, i], axis=1) for i in range(x.shape[0])] )\n",
    "        \n",
    "        return sum([i[0,0]*helper(i[1:, 1:]) for i in cut[0::2]]) - sum([j[0,0]*helper(j[1:, 1:]) for j in cut[1::2]])\n",
    "        \n",
    "    return helper(mat)"
   ]
  },
  {
   "cell_type": "code",
   "execution_count": 7,
   "id": "a7631661-eb8c-439b-809e-2e7167b78d6d",
   "metadata": {},
   "outputs": [],
   "source": [
    "def minors(mat: np.ndarray):\n",
    "    '''\n",
    "    Compute matrix of minors of a square matrix.\n",
    "    For each element of the matrix: \n",
    "    1. ignore the values on the current row and column\n",
    "    2. calculate the determinant of the remaining values \n",
    "    '''\n",
    "    matmin = np.array([])\n",
    "    \n",
    "    for i in [*zip(*np.ndenumerate(mat))][0]: # i.e. for every tupled index of mat:\n",
    "        \n",
    "        # for each element, find determinant of matrix without row and col of the element\n",
    "        det = determinant(\n",
    "                         np.delete(np.delete(mat, i[0], axis=0), i[1], axis=1)\n",
    "                          )\n",
    "        matmin = np.append(matmin, det)\n",
    "    \n",
    "    return matmin.reshape((mat.shape[0], mat.shape[1]))"
   ]
  },
  {
   "cell_type": "code",
   "execution_count": 8,
   "id": "5059ff0f-55ac-4adb-9ec7-cd22a203da79",
   "metadata": {},
   "outputs": [],
   "source": [
    "def cofactors(mat):\n",
    "    '''\n",
    "    Compute matrix of cofactors of a square matrix.\n",
    "    Applies a mask of - sign to even elements of matrix of minors.\n",
    "    '''\n",
    "    mask = np.ones(mat.size).reshape(mat.shape[0], mat.shape[1])\n",
    "    mask[0::2, 1::2] = -1   # change odd elements of even rows in -1\n",
    "    mask[1::2, 0::2] = -1   # change even elements of odd rows in -1\n",
    "    return mask*minors(mat)"
   ]
  },
  {
   "cell_type": "code",
   "execution_count": 9,
   "id": "195016de-0fea-4fee-8919-d828abba9599",
   "metadata": {},
   "outputs": [],
   "source": [
    "def adjugate(matrix):\n",
    "    '''\n",
    "    Compute adjugate matrix for square matrix.\n",
    "    Swap elements of cofactors matrix with respect to diagonal\n",
    "    '''\n",
    "    mat = cofactors(matrix)\n",
    "    \n",
    "    for i in range(mat.shape[0]):\n",
    "        for j in range(i):\n",
    "            mat[i, j], mat[j, i] = mat[j, i], mat[i, j]   \n",
    "    return mat"
   ]
  },
  {
   "cell_type": "markdown",
   "id": "a4fda94a-4174-44fd-872a-2adc618de581",
   "metadata": {},
   "source": [
    "Echelon and reduced Echelon form matrices: https://stattrek.com/matrix-algebra/echelon-transform.aspx"
   ]
  },
  {
   "cell_type": "code",
   "execution_count": 10,
   "id": "04cb1c82-81e8-4ae3-9b6c-4be073c6b14e",
   "metadata": {},
   "outputs": [],
   "source": [
    "def echelon(mat):\n",
    "    '''\n",
    "    Calculate recursively row echelon form matrix of mat.\n",
    "    Echelon form means that:\n",
    "    1. Each leading entry (!= 0) in every row is 1\n",
    "    2. Each leading entry is in a column to the right of the leading entry in the previous row\n",
    "    3. Rows with all zero elements, if any, are below rows having a non-zero element.\n",
    "    '''\n",
    "    def helper(matrix):\n",
    "        mx = np.zeros((matrix.shape[0], matrix.shape[1]))\n",
    "        mx[1:, 1:] = echelon(matrix[1:, 1:]) \n",
    "        return mx\n",
    "    \n",
    "    res = np.copy(mat) # fundamental that is a copy, otherwise modifies mat!\n",
    "\n",
    "    for i in range(res.shape[0]):\n",
    "        if res[i, 0] != 0:\n",
    "            \n",
    "            pivot = np.copy(res[i])\n",
    "            res = np.delete(res, i, axis=0)\n",
    "            res = np.insert(res, 0, pivot, axis=0)\n",
    "            res[0, :] = res[0, :] / res[0, 0]\n",
    "\n",
    "            for i in range(1, res.shape[0]):\n",
    "                if res[i, 0] == 0: continue\n",
    "                res[i, :] = res[i, :] - (res[0, :] * res[i, 0])\n",
    "\n",
    "            break\n",
    "\n",
    "    if res.shape[1] < 2:\n",
    "        return res\n",
    "    \n",
    "    mask = np.zeros((res.shape[0], res.shape[1]))\n",
    "    mask[1:, 1:] = 1\n",
    "    return np.where(mask == 0, res, helper(res))"
   ]
  },
  {
   "cell_type": "code",
   "execution_count": 11,
   "id": "6e039d2f-761a-4189-b015-3f793753d78e",
   "metadata": {},
   "outputs": [],
   "source": [
    "def echelonForm(matrix):\n",
    "    '''\n",
    "    Equivalent to echelon() but iterative.\n",
    "    '''\n",
    "    mat = np.copy(matrix)\n",
    "    \n",
    "    # for every column make a copy of submatrix [j:, j:]\n",
    "    for j in range(mat.shape[1]):\n",
    "        mx = np.copy(mat[j:, j:])\n",
    "        \n",
    "        # and operate on it row transformations\n",
    "        for i in range(mx.shape[0]):\n",
    "            if mx[i, 0] != 0:\n",
    "\n",
    "                pivot = np.copy(mx[i])\n",
    "                mx = np.delete(mx, i, axis=0)\n",
    "                mx = np.insert(mx, 0, pivot, axis=0)\n",
    "                mx[0, :] = mx[0, :] / mx[0, 0]\n",
    "\n",
    "                for i in range(1, mx.shape[0]):\n",
    "                    if mx[i, 0] == 0: continue\n",
    "                    mx[i, :] = mx[i, :] - (mx[0, :] * mx[i, 0])\n",
    "                \n",
    "                # save row transformations in correspondent submatrix and come back to col for loop\n",
    "                mat[j:, j:] = mx\n",
    "                break\n",
    "    return mat"
   ]
  },
  {
   "cell_type": "code",
   "execution_count": 12,
   "id": "6c5cc316-9218-4320-98f2-d4b7b124b58c",
   "metadata": {},
   "outputs": [],
   "source": [
    "def isEchelon(mat):\n",
    "    '''\n",
    "    Evaluate if mat is in echelon form.\n",
    "    '''\n",
    "    # for every row: proceeding from left to right,\n",
    "    for i in range(mat.shape[0]):\n",
    "        for j in range(mat.shape[1]):\n",
    "            if mat[i, j] == 0:   continue      # if value is 0 go on\n",
    "            elif mat[i, j] == 1: break         # if it's 1 go on to next row (leading entry)\n",
    "            else:                return False  # if it's a different value mat is not in echelon form\n",
    "    return True"
   ]
  },
  {
   "cell_type": "code",
   "execution_count": 13,
   "id": "7767256e-8920-4f04-a87a-c5120db20352",
   "metadata": {},
   "outputs": [],
   "source": [
    "def isReduced(mat):\n",
    "    '''\n",
    "    Evaluate if matrix is in echelon reduced form, i.e. if every laeding entry is unique nonzero value\n",
    "    in its column, and return positions of leading entries that does not satisfy this condition.\n",
    "    '''\n",
    "    if not isEchelon(mat): raise TypeError('Matrix not in echelon form')\n",
    "    \n",
    "    Res    = namedtuple('Res', ['reduced', 'reducible'])\n",
    "    result = Res(True, [])\n",
    "    \n",
    "    # for every row\n",
    "    for i in range(mat.shape[0]):\n",
    "        # search leading entry. When found:\n",
    "        for j in range(mat.shape[1]):\n",
    "            if mat[i, j] == 1:\n",
    "                # if there are other nonzero value in column, return False\n",
    "                if mat[:, j].sum() != 1:\n",
    "                    result.reducible.append((i, j))\n",
    "                # if not, go on with next row\n",
    "                break\n",
    "                \n",
    "    if not result.reducible == []: \n",
    "        return result._replace(reduced=False)\n",
    "    return result"
   ]
  },
  {
   "cell_type": "code",
   "execution_count": 14,
   "id": "984fd735-3cff-4d67-b35b-7786d4876c00",
   "metadata": {},
   "outputs": [],
   "source": [
    "def reduce(mx):\n",
    "    '''\n",
    "    Calculates reduced echelon form matrix.\n",
    "    For each reducible column, add a multiple of leading entry's row to rows \n",
    "    where value is nonzero , so that the nonzero value becomes zero.\n",
    "    Calls echelon for mx not in echelon form.\n",
    "    '''\n",
    "    mat = np.copy(mx)\n",
    "    if not isEchelon(mat): mat = echelonForm(mat)\n",
    "    \n",
    "    for i, j in isReduced(mat).reducible:\n",
    "        for k in range(i):\n",
    "            if mat[k, j] != 0:\n",
    "                mat[k, :] = mat[k, :] - (mat[i, :]*mat[k, j])\n",
    "    return mat  "
   ]
  },
  {
   "cell_type": "markdown",
   "id": "d9d9dff2-48e2-463a-86b0-be7d8eb74eea",
   "metadata": {},
   "source": [
    "Rank of a matrix: https://stattrek.com/matrix-algebra/matrix-rank.aspx"
   ]
  },
  {
   "cell_type": "code",
   "execution_count": 15,
   "id": "30599025-584d-4639-a9d3-38ec12189789",
   "metadata": {},
   "outputs": [],
   "source": [
    "def rank(mat):\n",
    "    '''\n",
    "    Return rank of a matrix.\n",
    "    It is the n of linearly independent rows or cols.\n",
    "    '''\n",
    "    mx = echelonForm(mat)\n",
    "    \n",
    "    # beginning rank:\n",
    "    rank = mx.shape[0]\n",
    "    \n",
    "    # for every row of only zeros, subtract 1 from rank\n",
    "    for i in (mx == 0).sum(axis=1):\n",
    "        if i == mx.shape[1]: rank -= 1\n",
    "            \n",
    "    return rank"
   ]
  },
  {
   "cell_type": "code",
   "execution_count": 16,
   "id": "960ff45c-68a9-46b4-9b50-87c54c633ad4",
   "metadata": {},
   "outputs": [],
   "source": [
    "def isFullRank(mat):\n",
    "    '''\n",
    "    Return True if rank is equal to minimum between rows and cols n.\n",
    "    '''\n",
    "    return min(mat.shape[0], mat.shape[1]) == rank(mat)"
   ]
  },
  {
   "cell_type": "code",
   "execution_count": 17,
   "id": "27580bbb-38dd-4183-8650-38d4291c1893",
   "metadata": {},
   "outputs": [],
   "source": [
    "def isSingular(mat):\n",
    "    '''\n",
    "    Evaluate if a square matrix is singular (i.e. non invertible).\n",
    "    Determinant of a nonsingular matrix is different from 0, determinant of a singular matrix is 0.\n",
    "    If a matrix is nonsingular, it can be canceled from both sides of an equation, \n",
    "    provided it appears on the left (or right) on both sides.\n",
    "    '''\n",
    "    if mat.shape[0] != mat.shape[1]:\n",
    "        return TypeError('Matrix not square')\n",
    "    \n",
    "    return not isFullRank(mat)"
   ]
  },
  {
   "cell_type": "code",
   "execution_count": 18,
   "id": "1e1a2240-e41e-4fd3-85d1-bd88d339c421",
   "metadata": {},
   "outputs": [],
   "source": [
    "def isSing(mat):\n",
    "    '''\n",
    "    Equivalent to isSingular but using determinant instead of rank.\n",
    "    Singular matrices have determinant 0, nonsingular != 0.\n",
    "    '''\n",
    "    if mat.shape[0] != mat.shape[1]:\n",
    "        return TypeError('Matrix not square')\n",
    "    \n",
    "    return determinant(A) == 0"
   ]
  },
  {
   "cell_type": "markdown",
   "id": "9f81325b-f0a1-4cd6-bf71-0515e5e216c5",
   "metadata": {},
   "source": [
    "Inverse of a matrix using Minors, Cofactors, Adjugate and Determinant: https://www.mathsisfun.com/algebra/matrix-inverse-minors-cofactors-adjugate.html"
   ]
  },
  {
   "cell_type": "code",
   "execution_count": 19,
   "id": "baa6896f-59fc-4d18-8c40-aef2d5222d7f",
   "metadata": {},
   "outputs": [],
   "source": [
    "def inverse(mat):\n",
    "    '''\n",
    "    Compute inverse matrix of square matrix.\n",
    "    '''\n",
    "    if isSingular(mat): return TypeError('Matrix is not nonsingular')\n",
    "    return adjugate(mat) / determinant(mat)"
   ]
  },
  {
   "cell_type": "markdown",
   "id": "186001ed-184e-4cc0-bcee-6673b3263a0f",
   "metadata": {},
   "source": [
    "Gauss-Jordan inverting method: https://www.mathsisfun.com/algebra/matrix-inverse-row-operations-gauss-jordan.html"
   ]
  },
  {
   "cell_type": "code",
   "execution_count": 20,
   "id": "03f726a9-8334-4f58-b641-1d0505242d5b",
   "metadata": {},
   "outputs": [],
   "source": [
    "def invert(matrix):\n",
    "    '''\n",
    "    Equivalent to inverse(), but uses Gauss-Jordan method. \n",
    "    Identity matrix is added along rows of matrix, then rows are multiplied and added to\n",
    "    obtain identity matrix on the left, leaving inverse matrix where identity matrix was originally appended.\n",
    "    '''\n",
    "    if isSingular(matrix): return TypeError('Matrix is not nonsingular')\n",
    "\n",
    "    mx = np.concatenate((matrix, np.identity(matrix.shape[0])), axis=1)\n",
    "\n",
    "    for i in range(matrix.shape[0]):\n",
    "        mx[i, :] = mx[i, :] / mx[i, i]\n",
    "\n",
    "        for j in [x for x in range(matrix.shape[0]) if x != i]:\n",
    "            coeff = -mx[j, i]\n",
    "            add = mx[i, :]*coeff\n",
    "            mx[j, :] = mx[j, :] + add\n",
    "            \n",
    "    return mx[:, matrix.shape[1] : matrix.shape[1]*2]"
   ]
  },
  {
   "cell_type": "code",
   "execution_count": 21,
   "id": "2c339365-7746-4b8a-bb1f-d0f8fed94e5b",
   "metadata": {},
   "outputs": [],
   "source": [
    "def diagonal(arr: np.ndarray):\n",
    "    '''\n",
    "    Return diagonal matrix whose diagonal is input array\n",
    "    '''\n",
    "    if arr.ndim > 1:\n",
    "        raise TypeError('Array must have only 1dim')\n",
    "    return np.identity(arr.shape[0]) * arr"
   ]
  }
 ],
 "metadata": {
  "kernelspec": {
   "display_name": "Python 3",
   "language": "python",
   "name": "python3"
  },
  "language_info": {
   "codemirror_mode": {
    "name": "ipython",
    "version": 3
   },
   "file_extension": ".py",
   "mimetype": "text/x-python",
   "name": "python",
   "nbconvert_exporter": "python",
   "pygments_lexer": "ipython3",
   "version": "3.8.8"
  }
 },
 "nbformat": 4,
 "nbformat_minor": 5
}
